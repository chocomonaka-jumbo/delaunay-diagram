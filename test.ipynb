{
 "cells": [
  {
   "cell_type": "code",
   "execution_count": 1,
   "id": "d8eb4123",
   "metadata": {},
   "outputs": [],
   "source": [
    "import cv2\n",
    "import numpy as np\n",
    "import math\n",
    "import colorsys"
   ]
  },
  {
   "cell_type": "code",
   "execution_count": 2,
   "id": "05b83ac8",
   "metadata": {},
   "outputs": [],
   "source": [
    "def DelaunayDiagram(imgd, subdiv):\n",
    "    height, width = imgd.shape[:2]\n",
    "\n",
    "    # ドロネーの三角形\n",
    "    triangles = subdiv.getTriangleList()\n",
    "    pols = triangles.reshape(-1, 3, 2)\n",
    "    inner_pts = np.empty((0, 3, 2))\n",
    "    \n",
    "    for pa in pols:\n",
    "        # フレーム外の点は除外\n",
    "        cnt = 0\n",
    "        for p in pa:\n",
    "            if p[0] < 0 or width <= p[0] :\n",
    "                break\n",
    "            if p[1] < 0 or height <= p[1] :\n",
    "                break\n",
    "            cnt += 1\n",
    "        # フレーム内の点は有効\n",
    "        if cnt == 3:\n",
    "            inner_pts = np.append(inner_pts, [pa], axis=0)\n",
    "    cv2.fillPoly(imgd, inner_pts.astype(int), (0, 255, 0), 1)\n",
    "    #print(inner_pts.astype)\n",
    "    "
   ]
  },
  {
   "cell_type": "code",
   "execution_count": 3,
   "id": "c946dc4e",
   "metadata": {},
   "outputs": [],
   "source": [
    "def DelaunayDiagram2(imgd, subdiv,array):\n",
    "    height, width = imgd.shape[:2]\n",
    "\n",
    "    # ドロネーの三角形\n",
    "    triangles = subdiv.getTriangleList()\n",
    "    pols = triangles.reshape(-1, 3, 2)\n",
    "    inner_pts = np.empty((0, 3, 2))\n",
    "    \n",
    "    for pa in pols:\n",
    "        # フレーム外の点は除外\n",
    "        cnt = 0\n",
    "        for p in pa:\n",
    "            if p[0] < 0 or width <= p[0] :\n",
    "                break\n",
    "            if p[1] < 0 or height <= p[1] :\n",
    "                break\n",
    "            cnt += 1\n",
    "        # フレーム内の点は有効\n",
    "        if cnt == 3:\n",
    "            inner_pts = np.append(inner_pts, [pa], axis=0)\n",
    "    \n",
    "    color_list = []\n",
    "    #温度の平均値計算\n",
    "    #for i in range(0,255):\n",
    "        #color_list.append((i,255,255))\n",
    "   \n",
    "    for i in range(len(inner_pts)):\n",
    "        ave = (array[(int)(inner_pts[i][0][0])][(int)(inner_pts[i][0][1])] + array[(int)(inner_pts[i][1][0])][(int)(inner_pts[i][1][1])] + array[(int)(inner_pts[i][2][0])][(int)(inner_pts[i][2][1])])/3\n",
    "        color_list.append((ave,255,255))\n",
    "    \n",
    "    print(inner_pts.shape)\n",
    "    \n",
    "    for i in range(len(inner_pts)):\n",
    "        cv2.fillPoly(imgd, [inner_pts[i].astype(int)], color_list[i], 1)\n",
    "    #温度に合わせて色を変える\n",
    "    "
   ]
  },
  {
   "cell_type": "code",
   "execution_count": 4,
   "id": "88af2f35",
   "metadata": {},
   "outputs": [],
   "source": [
    "def getRandom2DPoints(width, height, n):\n",
    "    np.random.seed(202001)\n",
    "    margin = 10\n",
    "    entry_pts = np.random.randint(margin, max(height, width), (n*2, 2))\n",
    "\n",
    "    pts = []\n",
    "    for i, ep in enumerate(entry_pts):\n",
    "        if ep[0] < margin or (width-margin) < ep[0]:\n",
    "            continue\n",
    "        if ep[1] < margin or (height-margin) < ep[1]:\n",
    "            continue\n",
    "\n",
    "        # サークル色をHSVで計算\n",
    "        # 白っぽいを避けるためHSVで計算\n",
    "        h = i * math.pi * 2.0 / n\n",
    "        rgb = colorsys.hsv_to_rgb(h, 1.0, 1.0)\n",
    "        r = int(rgb[0] * 255)\n",
    "        g = int(rgb[1] * 255)\n",
    "        b = int(rgb[2] * 255)\n",
    "        pts.append([ep[0],ep[1],r])\n",
    "    return    pts"
   ]
  },
  {
   "cell_type": "code",
   "execution_count": 5,
   "id": "7692a3f6",
   "metadata": {},
   "outputs": [],
   "source": [
    "def main():\n",
    "    height = 240\n",
    "    width = 320\n",
    "    \n",
    "    #点の生成\n",
    "    pts = getRandom2DPoints(width,height,50)\n",
    "    #白紙を作る\n",
    "    img = np.full((height, width, 3), 255, np.uint8)\n",
    "    \n",
    "    rect = (0, 0, width, height)\n",
    "    subdiv = cv2.Subdiv2D(rect)\n",
    "    #print(pts.shape)\n",
    "    print(subdiv)\n",
    "    array = np.zeros((320,240))\n",
    "    \n",
    "    for p in pts:\n",
    "        subdiv.insert((int(p[0]), int(p[1])))\n",
    "        array[p[0]][p[1]] = p[2]\n",
    "        #print(p[2])\n",
    "        \n",
    "    DelaunayDiagram2(img, subdiv,array)\n",
    "    \n",
    "    for p in pts:\n",
    "        color = p[2]\n",
    "        cv2.circle(img, (p[0],p[1]), 4, color, thickness=-1, lineType=cv2.LINE_AA)\n",
    "    print(color)\n",
    "    cv2.imwrite('test.png', img)\n",
    "    \n",
    "    \n"
   ]
  },
  {
   "cell_type": "code",
   "execution_count": 6,
   "id": "215245c1",
   "metadata": {},
   "outputs": [
    {
     "name": "stdout",
     "output_type": "stream",
     "text": [
      "<Subdiv2D 0x7fada135ad90>\n",
      "(108, 3, 2)\n",
      "220\n"
     ]
    }
   ],
   "source": [
    "if __name__ == '__main__':\n",
    "    main()"
   ]
  },
  {
   "cell_type": "markdown",
   "id": "0f2cb91c",
   "metadata": {},
   "source": [
    "乱数でデータ作ってドロネー図描くところまでできたから、あとは画像とかネットからデータを拾ってきて作れればいい？"
   ]
  },
  {
   "cell_type": "code",
   "execution_count": null,
   "id": "9b5c7254",
   "metadata": {},
   "outputs": [],
   "source": []
  }
 ],
 "metadata": {
  "kernelspec": {
   "display_name": "Python 3",
   "language": "python",
   "name": "python3"
  },
  "language_info": {
   "codemirror_mode": {
    "name": "ipython",
    "version": 3
   },
   "file_extension": ".py",
   "mimetype": "text/x-python",
   "name": "python",
   "nbconvert_exporter": "python",
   "pygments_lexer": "ipython3",
   "version": "3.8.2"
  }
 },
 "nbformat": 4,
 "nbformat_minor": 5
}
