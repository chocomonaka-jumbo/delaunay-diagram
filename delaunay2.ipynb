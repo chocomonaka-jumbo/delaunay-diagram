{
 "cells": [
  {
   "cell_type": "code",
<<<<<<< HEAD
   "execution_count": 1,
=======
   "execution_count": 304,
>>>>>>> e4c99d69fac3937241d19e8b95559c3256696714
   "metadata": {},
   "outputs": [],
   "source": [
    "import cv2\n",
    "import numpy as np\n",
    "import math\n",
    "import colorsys\n",
    "import csv"
   ]
  },
  {
   "cell_type": "code",
<<<<<<< HEAD
   "execution_count": 2,
=======
   "execution_count": 305,
>>>>>>> e4c99d69fac3937241d19e8b95559c3256696714
   "metadata": {},
   "outputs": [],
   "source": [
    "#ランダムで座標と値を発生\n",
    "#本番はリストで受け取るので、この関数は不要\n",
    "def getRandom2DPoints(width, height, n):\n",
<<<<<<< HEAD
    "    with open('sample.csv','r') as f:\n",
    "        reader = csv.reader(f)\n",
    "        pts = np.zeros((50,3))\n",
    "        i = 0\n",
    "        for line in reader:\n",
    "            if(i>0):\n",
    "                pts[i-1][0]=line[0]\n",
    "                pts[i-1][1]=line[1]\n",
    "                pts[i-1][2]=line[2]\n",
    "            i=i+1\n",
    "    return pts"
=======
    "    x = np.random.randint(0, width, n)\n",
    "    y = np.random.randint(0, height, n)\n",
    "    temp = np.random.randint(0, 45, n)\n",
    "    \n",
    "    pts = np.stack([x, y, temp], axis=1) \n",
    "    return    pts"
>>>>>>> e4c99d69fac3937241d19e8b95559c3256696714
   ]
  },
  {
   "cell_type": "code",
<<<<<<< HEAD
   "execution_count": 3,
   "metadata": {},
   "outputs": [],
   "source": [
    "def get_color2(a1,a2,a3):\n",
    "    #平均値を求める\n",
    "    ave = (a1+a2+a3)/3\n",
    "    if (ave>=0):\n",
    "        r = 255\n",
    "        g = 255 - ave*5\n",
    "        b = 255 - ave*5\n",
    "    if (ave<0):\n",
    "        r = 255 + ave*5\n",
    "        g = 255 + ave*5\n",
    "        b = 255\n",
=======
   "execution_count": 306,
   "metadata": {},
   "outputs": [],
   "source": [
    "def hsv_to_rgb(h, s, v):\n",
    "    #hsv値からrgb値に変換\n",
    "    if h >= 0 and h < 60:\n",
    "        b = 0\n",
    "        g = (h/60)*255\n",
    "        r = 255\n",
    "    elif h >= 60 and h < 120:\n",
    "        b = 0\n",
    "        g = 255\n",
    "        r = ((120-h)/60)*255\n",
    "    elif h >= 120 and h < 180:\n",
    "        b = ((h-120)/60)*255\n",
    "        g = 255\n",
    "        r = 0\n",
    "    elif h >= 180 and h < 240:\n",
    "        b = 255\n",
    "        g = ((240-h)/60)*255\n",
    "        r = 0\n",
    "    elif h >= 240 and h < 300:\n",
    "        b = 255\n",
    "        g = 0\n",
    "        r = ((h-240)/60)*255\n",
    "    else:\n",
    "        b = 0\n",
    "        g = 0\n",
    "        r = 0\n",
    "        \n",
    "    return (b,g,r)"
   ]
  },
  {
   "cell_type": "code",
   "execution_count": 307,
   "metadata": {},
   "outputs": [],
   "source": [
    "def get_color(a1,a2,a3,ave,ave_max,ave_min):\n",
    "    \n",
    "    \"\"\"\n",
    "    \n",
    "    r = ave*5\n",
    "    g = 255\n",
    "    \n",
    "    b = (50-ave)*5\n",
    "    #g = 1/abs(r-b)\n",
    "    \"\"\"\n",
    "    #3点の平均値\n",
    "    ave_3pts = (a1+a2+a3)/3\n",
    "    #正規化\n",
    "    n = (ave_3pts-ave_max)/(ave_max-ave_min)\n",
    "    #h値を0から240の間の値に変換\n",
    "    h = n*(240-0) + 240\n",
    "    print(h)\n",
    "    s = 255\n",
    "    v = 255\n",
    "    bgr = hsv_to_rgb(h,s,v)\n",
    "    \n",
    "    b = bgr[0]\n",
    "    g = bgr[1]\n",
    "    r = bgr[2]\n",
    "    \n",
>>>>>>> e4c99d69fac3937241d19e8b95559c3256696714
    "    return(b,g,r)"
   ]
  },
  {
   "cell_type": "code",
<<<<<<< HEAD
   "execution_count": 4,
=======
   "execution_count": 308,
   "metadata": {},
   "outputs": [],
   "source": [
    "def get_ave(array,inner_pts):\n",
    "    # 3点の平均値の平均値と標準偏差\n",
    "    list = []\n",
    "    for i in range(len(inner_pts)):\n",
    "        pts1 = array[(int)(inner_pts[i][0][0])][(int)(inner_pts[i][0][1])]\n",
    "        pts2 = array[(int)(inner_pts[i][1][0])][(int)(inner_pts[i][1][1])]\n",
    "        pts3 = array[(int)(inner_pts[i][2][0])][(int)(inner_pts[i][2][1])]\n",
    "        ave_3pts = (pts1 + pts2 + pts3)/3\n",
    "        list.append(ave_3pts)\n",
    "    ave = np.mean(list)\n",
    "    ave_max = np.amax(list)\n",
    "    ave_min = np.amin(list)\n",
    "    return (ave,ave_max,ave_min)"
   ]
  },
  {
   "cell_type": "code",
   "execution_count": 309,
>>>>>>> e4c99d69fac3937241d19e8b95559c3256696714
   "metadata": {},
   "outputs": [],
   "source": [
    "def DelaunayDiagram(imgd, subdiv,array):\n",
    "    height, width = imgd.shape[:2]\n",
    "\n",
    "    # ドロネーの三角形\n",
    "    triangles = subdiv.getTriangleList()\n",
    "    pols = triangles.reshape(-1, 3, 2)\n",
    "    inner_pts = np.empty((0, 3, 2))\n",
    "    \n",
    "    for pa in pols:\n",
    "        # フレーム外の点は除外\n",
    "        cnt = 0\n",
    "        for p in pa:\n",
    "            if p[0] < 0 or width <= p[0] :\n",
    "                break\n",
    "            if p[1] < 0 or height <= p[1] :\n",
    "                break\n",
    "            cnt += 1\n",
    "        # フレーム内の点は有効\n",
    "        if cnt == 3:\n",
    "            inner_pts = np.append(inner_pts, [pa], axis=0)\n",
    "    \n",
    "    #rgb値を格納する配列を作成\n",
    "    color_list = np.zeros((len(inner_pts),3))\n",
    "    \n",
    "    ave = get_ave(array,inner_pts)[0]\n",
    "    ave_max = get_ave(array,inner_pts)[1]\n",
    "    ave_min = get_ave(array,inner_pts)[2]\n",
    "    \n",
    "    #3値を渡して色を設定\n",
    "    for i in range(len(inner_pts)):\n",
<<<<<<< HEAD
    "        color_list[i]=get_color2(array[(int)(inner_pts[i][0][0])][(int)(inner_pts[i][0][1])],array[(int)(inner_pts[i][1][0])][(int)(inner_pts[i][1][1])],array[(int)(inner_pts[i][2][0])][(int)(inner_pts[i][2][1])])\n",
=======
    "        pts1 = array[(int)(inner_pts[i][0][0])][(int)(inner_pts[i][0][1])]\n",
    "        pts2 = array[(int)(inner_pts[i][1][0])][(int)(inner_pts[i][1][1])]\n",
    "        pts3 = array[(int)(inner_pts[i][2][0])][(int)(inner_pts[i][2][1])]\n",
    "        color_list[i]=get_color(pts1,pts2,pts3,ave,ave_max,ave_min)\n",
    "    #print(color_list)\n",
    "        \n",
>>>>>>> e4c99d69fac3937241d19e8b95559c3256696714
    "    #図形の描画\n",
    "    for i in range(len(inner_pts)):\n",
    "        #三角形の描画\n",
    "        cv2.fillPoly(imgd, [inner_pts[i].astype(int)], (color_list[i][0],color_list[i][1],color_list[i][2]), 1)\n",
    "        #三角形の辺の描画\n",
    "        cv2.line(imgd,(inner_pts[i][0][0].astype(int),inner_pts[i][0][1].astype(int)),(inner_pts[i][1][0].astype(int),inner_pts[i][1][1].astype(int)),(0,0,0))\n",
    "        cv2.line(imgd,(inner_pts[i][1][0].astype(int),inner_pts[i][1][1].astype(int)),(inner_pts[i][2][0].astype(int),inner_pts[i][2][1].astype(int)),(0,0,0))\n",
    "        cv2.line(imgd,(inner_pts[i][2][0].astype(int),inner_pts[i][2][1].astype(int)),(inner_pts[i][0][0].astype(int),inner_pts[i][0][1].astype(int)),(0,0,0))"
   ]
  },
  {
   "cell_type": "code",
<<<<<<< HEAD
   "execution_count": 5,
=======
   "execution_count": 310,
>>>>>>> e4c99d69fac3937241d19e8b95559c3256696714
   "metadata": {},
   "outputs": [],
   "source": [
    "def main():\n",
    "    width = 320\n",
    "    height = 240\n",
    "    \n",
    "    #点の生成\n",
    "    pts = getRandom2DPoints(width,height,50)\n",
    "    \n",
    "    #白紙を作る\n",
    "    img = np.full((height, width, 3), 255, np.uint8)\n",
    "    \n",
    "    rect = (0, 0, width, height)\n",
    "    subdiv = cv2.Subdiv2D(rect)\n",
    "\n",
    "    #(x1,y1,a1)の時、array[x1][y1]=a1とする\n",
    "    array = np.zeros((width,height))\n",
<<<<<<< HEAD
    "    #print(array)\n",
=======
>>>>>>> e4c99d69fac3937241d19e8b95559c3256696714
    "    \n",
    "    for p in pts:\n",
    "        subdiv.insert((int(p[0]), int(p[1])))\n",
    "        array[int(p[0])][int(p[1])] = p[2]\n",
    "        \n",
    "    DelaunayDiagram(img, subdiv,array)\n",
    "\n",
    "    for p in pts:\n",
    "        cv2.circle(img, (p[0],p[1]), 4, (0, 0, 0), thickness=-1, lineType=cv2.LINE_AA)\n",
    "   \n",
    "    cv2.imwrite('test2.png', img)"
   ]
  },
  {
   "cell_type": "code",
<<<<<<< HEAD
   "execution_count": 6,
   "metadata": {},
   "outputs": [
    {
     "ename": "FileNotFoundError",
     "evalue": "[Errno 2] No such file or directory: 'sample.csv'",
     "output_type": "error",
     "traceback": [
      "\u001b[0;31m---------------------------------------------------------------------------\u001b[0m",
      "\u001b[0;31mFileNotFoundError\u001b[0m                         Traceback (most recent call last)",
      "\u001b[0;32m<ipython-input-6-c7bc734e5e35>\u001b[0m in \u001b[0;36m<module>\u001b[0;34m\u001b[0m\n\u001b[1;32m      1\u001b[0m \u001b[0;32mif\u001b[0m \u001b[0m__name__\u001b[0m \u001b[0;34m==\u001b[0m \u001b[0;34m'__main__'\u001b[0m\u001b[0;34m:\u001b[0m\u001b[0;34m\u001b[0m\u001b[0;34m\u001b[0m\u001b[0m\n\u001b[0;32m----> 2\u001b[0;31m     \u001b[0mmain\u001b[0m\u001b[0;34m(\u001b[0m\u001b[0;34m)\u001b[0m\u001b[0;34m\u001b[0m\u001b[0;34m\u001b[0m\u001b[0m\n\u001b[0m",
      "\u001b[0;32m<ipython-input-5-5907869bd815>\u001b[0m in \u001b[0;36mmain\u001b[0;34m()\u001b[0m\n\u001b[1;32m      4\u001b[0m \u001b[0;34m\u001b[0m\u001b[0m\n\u001b[1;32m      5\u001b[0m     \u001b[0;31m#点の生成\u001b[0m\u001b[0;34m\u001b[0m\u001b[0;34m\u001b[0m\u001b[0;34m\u001b[0m\u001b[0m\n\u001b[0;32m----> 6\u001b[0;31m     \u001b[0mpts\u001b[0m \u001b[0;34m=\u001b[0m \u001b[0mgetRandom2DPoints\u001b[0m\u001b[0;34m(\u001b[0m\u001b[0mwidth\u001b[0m\u001b[0;34m,\u001b[0m\u001b[0mheight\u001b[0m\u001b[0;34m,\u001b[0m\u001b[0;36m50\u001b[0m\u001b[0;34m)\u001b[0m\u001b[0;34m\u001b[0m\u001b[0;34m\u001b[0m\u001b[0m\n\u001b[0m\u001b[1;32m      7\u001b[0m     \u001b[0mprint\u001b[0m\u001b[0;34m(\u001b[0m\u001b[0mpts\u001b[0m\u001b[0;34m)\u001b[0m\u001b[0;34m\u001b[0m\u001b[0;34m\u001b[0m\u001b[0m\n\u001b[1;32m      8\u001b[0m     \u001b[0;31m#白紙を作る\u001b[0m\u001b[0;34m\u001b[0m\u001b[0;34m\u001b[0m\u001b[0;34m\u001b[0m\u001b[0m\n",
      "\u001b[0;32m<ipython-input-2-1f02df84d494>\u001b[0m in \u001b[0;36mgetRandom2DPoints\u001b[0;34m(width, height, n)\u001b[0m\n\u001b[1;32m      2\u001b[0m \u001b[0;31m#本番はリストで受け取るので、この関数は不要\u001b[0m\u001b[0;34m\u001b[0m\u001b[0;34m\u001b[0m\u001b[0;34m\u001b[0m\u001b[0m\n\u001b[1;32m      3\u001b[0m \u001b[0;32mdef\u001b[0m \u001b[0mgetRandom2DPoints\u001b[0m\u001b[0;34m(\u001b[0m\u001b[0mwidth\u001b[0m\u001b[0;34m,\u001b[0m \u001b[0mheight\u001b[0m\u001b[0;34m,\u001b[0m \u001b[0mn\u001b[0m\u001b[0;34m)\u001b[0m\u001b[0;34m:\u001b[0m\u001b[0;34m\u001b[0m\u001b[0;34m\u001b[0m\u001b[0m\n\u001b[0;32m----> 4\u001b[0;31m     \u001b[0;32mwith\u001b[0m \u001b[0mopen\u001b[0m\u001b[0;34m(\u001b[0m\u001b[0;34m'sample.csv'\u001b[0m\u001b[0;34m,\u001b[0m\u001b[0;34m'r'\u001b[0m\u001b[0;34m)\u001b[0m \u001b[0;32mas\u001b[0m \u001b[0mf\u001b[0m\u001b[0;34m:\u001b[0m\u001b[0;34m\u001b[0m\u001b[0;34m\u001b[0m\u001b[0m\n\u001b[0m\u001b[1;32m      5\u001b[0m         \u001b[0mreader\u001b[0m \u001b[0;34m=\u001b[0m \u001b[0mcsv\u001b[0m\u001b[0;34m.\u001b[0m\u001b[0mreader\u001b[0m\u001b[0;34m(\u001b[0m\u001b[0mf\u001b[0m\u001b[0;34m)\u001b[0m\u001b[0;34m\u001b[0m\u001b[0;34m\u001b[0m\u001b[0m\n\u001b[1;32m      6\u001b[0m         \u001b[0mpts\u001b[0m \u001b[0;34m=\u001b[0m \u001b[0mnp\u001b[0m\u001b[0;34m.\u001b[0m\u001b[0mzeros\u001b[0m\u001b[0;34m(\u001b[0m\u001b[0;34m(\u001b[0m\u001b[0;36m50\u001b[0m\u001b[0;34m,\u001b[0m\u001b[0;36m3\u001b[0m\u001b[0;34m)\u001b[0m\u001b[0;34m)\u001b[0m\u001b[0;34m\u001b[0m\u001b[0;34m\u001b[0m\u001b[0m\n",
      "\u001b[0;31mFileNotFoundError\u001b[0m: [Errno 2] No such file or directory: 'sample.csv'"
=======
   "execution_count": 311,
   "metadata": {},
   "outputs": [
    {
     "name": "stdout",
     "output_type": "stream",
     "text": [
      "167.99999999999997\n",
      "112.8\n",
      "40.79999999999998\n",
      "40.79999999999998\n",
      "180.0\n",
      "129.6\n",
      "141.6\n",
      "134.4\n",
      "153.59999999999997\n",
      "148.8\n",
      "158.39999999999998\n",
      "79.19999999999999\n",
      "132.0\n",
      "194.39999999999998\n",
      "57.599999999999994\n",
      "40.79999999999998\n",
      "81.60000000000002\n",
      "158.39999999999998\n",
      "38.400000000000006\n",
      "160.79999999999998\n",
      "134.4\n",
      "48.0\n",
      "98.4\n",
      "91.19999999999999\n",
      "177.6\n",
      "156.0\n",
      "28.80000000000001\n",
      "45.60000000000002\n",
      "0.0\n",
      "134.4\n",
      "182.39999999999998\n",
      "129.6\n",
      "240.0\n",
      "199.2\n",
      "57.599999999999994\n",
      "127.19999999999999\n",
      "98.4\n",
      "45.60000000000002\n",
      "112.8\n",
      "180.0\n",
      "184.8\n",
      "160.79999999999998\n",
      "182.39999999999998\n",
      "194.39999999999998\n",
      "158.39999999999998\n",
      "167.99999999999997\n",
      "83.99999999999997\n",
      "7.200000000000017\n",
      "79.19999999999999\n",
      "115.19999999999999\n",
      "9.600000000000023\n",
      "100.79999999999998\n",
      "100.79999999999998\n",
      "110.39999999999998\n",
      "167.99999999999997\n",
      "141.6\n",
      "112.8\n",
      "95.99999999999997\n",
      "151.2\n",
      "91.19999999999999\n",
      "189.59999999999997\n",
      "139.2\n",
      "124.79999999999998\n",
      "98.4\n",
      "86.4\n",
      "108.0\n",
      "211.2\n",
      "182.39999999999998\n",
      "146.39999999999998\n",
      "105.60000000000002\n",
      "189.59999999999997\n",
      "175.2\n",
      "134.4\n",
      "122.39999999999999\n",
      "122.39999999999999\n",
      "100.79999999999998\n",
      "165.6\n",
      "112.8\n",
      "136.79999999999998\n",
      "88.79999999999998\n",
      "144.0\n"
>>>>>>> e4c99d69fac3937241d19e8b95559c3256696714
     ]
    }
   ],
   "source": [
    "if __name__ == '__main__':\n",
    "    main()"
   ]
  },
  {
   "cell_type": "code",
   "execution_count": null,
   "metadata": {},
   "outputs": [],
   "source": []
  }
 ],
 "metadata": {
  "kernelspec": {
   "display_name": "Python 3",
   "language": "python",
   "name": "python3"
  },
  "language_info": {
   "codemirror_mode": {
    "name": "ipython",
    "version": 3
   },
   "file_extension": ".py",
   "mimetype": "text/x-python",
   "name": "python",
   "nbconvert_exporter": "python",
   "pygments_lexer": "ipython3",
   "version": "3.8.2"
  }
 },
 "nbformat": 4,
 "nbformat_minor": 4
}
