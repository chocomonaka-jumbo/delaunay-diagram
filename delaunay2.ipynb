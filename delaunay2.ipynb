{
 "cells": [
  {
   "cell_type": "code",
   "execution_count": 1,
   "metadata": {},
   "outputs": [],
   "source": [
    "import cv2\n",
    "import numpy as np\n",
    "import math\n",
    "import colorsys\n",
    "import csv"
   ]
  },
  {
   "cell_type": "code",
   "execution_count": 2,
   "metadata": {},
   "outputs": [],
   "source": [
    "#ランダムで座標と値を発生\n",
    "#本番はリストで受け取るので、この関数は不要\n",
    "def getRandom2DPoints(width, height, n):\n",
    "    with open('sample.csv','r') as f:\n",
    "        reader = csv.reader(f)\n",
    "        pts = np.zeros((50,3))\n",
    "        i = 0\n",
    "        for line in reader:\n",
    "            if(i>0):\n",
    "                pts[i-1][0]=line[0]\n",
    "                pts[i-1][1]=line[1]\n",
    "                pts[i-1][2]=line[2]\n",
    "            i=i+1\n",
    "    return pts"
   ]
  },
  {
   "cell_type": "code",
   "execution_count": 3,
   "metadata": {},
   "outputs": [],
   "source": [
    "def get_color2(a1,a2,a3):\n",
    "    #平均値を求める\n",
    "    ave = (a1+a2+a3)/3\n",
    "    if (ave>=0):\n",
    "        r = 255\n",
    "        g = 255 - ave*5\n",
    "        b = 255 - ave*5\n",
    "    if (ave<0):\n",
    "        r = 255 + ave*5\n",
    "        g = 255 + ave*5\n",
    "        b = 255\n",
    "    return(b,g,r)"
   ]
  },
  {
   "cell_type": "code",
   "execution_count": 4,
   "metadata": {},
   "outputs": [],
   "source": [
    "def DelaunayDiagram(imgd, subdiv,array):\n",
    "    height, width = imgd.shape[:2]\n",
    "\n",
    "    # ドロネーの三角形\n",
    "    triangles = subdiv.getTriangleList()\n",
    "    pols = triangles.reshape(-1, 3, 2)\n",
    "    inner_pts = np.empty((0, 3, 2))\n",
    "    \n",
    "    for pa in pols:\n",
    "        # フレーム外の点は除外\n",
    "        cnt = 0\n",
    "        for p in pa:\n",
    "            if p[0] < 0 or width <= p[0] :\n",
    "                break\n",
    "            if p[1] < 0 or height <= p[1] :\n",
    "                break\n",
    "            cnt += 1\n",
    "        # フレーム内の点は有効\n",
    "        if cnt == 3:\n",
    "            inner_pts = np.append(inner_pts, [pa], axis=0)\n",
    "    \n",
    "    #rgb値を格納する配列を作成\n",
    "    color_list = np.zeros((len(inner_pts),3))\n",
    "    \n",
    "    #3値を渡して色を設定\n",
    "    for i in range(len(inner_pts)):\n",
    "        color_list[i]=get_color2(array[(int)(inner_pts[i][0][0])][(int)(inner_pts[i][0][1])],array[(int)(inner_pts[i][1][0])][(int)(inner_pts[i][1][1])],array[(int)(inner_pts[i][2][0])][(int)(inner_pts[i][2][1])])\n",
    "    #図形の描画\n",
    "    for i in range(len(inner_pts)):\n",
    "        #三角形の描画\n",
    "        cv2.fillPoly(imgd, [inner_pts[i].astype(int)], (color_list[i][0],color_list[i][1],color_list[i][2]), 1)\n",
    "        #三角形の辺の描画\n",
    "        cv2.line(imgd,(inner_pts[i][0][0].astype(int),inner_pts[i][0][1].astype(int)),(inner_pts[i][1][0].astype(int),inner_pts[i][1][1].astype(int)),(0,0,0))\n",
    "        cv2.line(imgd,(inner_pts[i][1][0].astype(int),inner_pts[i][1][1].astype(int)),(inner_pts[i][2][0].astype(int),inner_pts[i][2][1].astype(int)),(0,0,0))\n",
    "        cv2.line(imgd,(inner_pts[i][2][0].astype(int),inner_pts[i][2][1].astype(int)),(inner_pts[i][0][0].astype(int),inner_pts[i][0][1].astype(int)),(0,0,0))"
   ]
  },
  {
   "cell_type": "code",
   "execution_count": 5,
   "metadata": {},
   "outputs": [],
   "source": [
    "def main():\n",
    "    width = 320\n",
    "    height = 240\n",
    "    \n",
    "    #点の生成\n",
    "    pts = getRandom2DPoints(width,height,50)\n",
    "    print(pts)\n",
    "    #白紙を作る\n",
    "    img = np.full((height, width, 3), 255, np.uint8)\n",
    "    \n",
    "    rect = (0, 0, width, height)\n",
    "    subdiv = cv2.Subdiv2D(rect)\n",
    "\n",
    "    #(x1,y1,a1)の時、array[x1][y1]=a1とする\n",
    "    array = np.zeros((width,height))\n",
    "    #print(array)\n",
    "    \n",
    "    for p in pts:\n",
    "        subdiv.insert((int(p[0]), int(p[1])))\n",
    "        array[int(p[0])][int(p[1])] = p[2]\n",
    "        \n",
    "    DelaunayDiagram(img, subdiv,array)\n",
    "\n",
    "    for p in pts:\n",
    "        #color = p[2]\n",
    "        cv2.circle(img, (p[0],p[1]), 4, (0, 0, 0), thickness=-1, lineType=cv2.LINE_AA)\n",
    "   \n",
    "    cv2.imwrite('test2.png', img)"
   ]
  },
  {
   "cell_type": "code",
   "execution_count": 6,
   "metadata": {},
   "outputs": [
    {
     "ename": "FileNotFoundError",
     "evalue": "[Errno 2] No such file or directory: 'sample.csv'",
     "output_type": "error",
     "traceback": [
      "\u001b[0;31m---------------------------------------------------------------------------\u001b[0m",
      "\u001b[0;31mFileNotFoundError\u001b[0m                         Traceback (most recent call last)",
      "\u001b[0;32m<ipython-input-6-c7bc734e5e35>\u001b[0m in \u001b[0;36m<module>\u001b[0;34m\u001b[0m\n\u001b[1;32m      1\u001b[0m \u001b[0;32mif\u001b[0m \u001b[0m__name__\u001b[0m \u001b[0;34m==\u001b[0m \u001b[0;34m'__main__'\u001b[0m\u001b[0;34m:\u001b[0m\u001b[0;34m\u001b[0m\u001b[0;34m\u001b[0m\u001b[0m\n\u001b[0;32m----> 2\u001b[0;31m     \u001b[0mmain\u001b[0m\u001b[0;34m(\u001b[0m\u001b[0;34m)\u001b[0m\u001b[0;34m\u001b[0m\u001b[0;34m\u001b[0m\u001b[0m\n\u001b[0m",
      "\u001b[0;32m<ipython-input-5-5907869bd815>\u001b[0m in \u001b[0;36mmain\u001b[0;34m()\u001b[0m\n\u001b[1;32m      4\u001b[0m \u001b[0;34m\u001b[0m\u001b[0m\n\u001b[1;32m      5\u001b[0m     \u001b[0;31m#点の生成\u001b[0m\u001b[0;34m\u001b[0m\u001b[0;34m\u001b[0m\u001b[0;34m\u001b[0m\u001b[0m\n\u001b[0;32m----> 6\u001b[0;31m     \u001b[0mpts\u001b[0m \u001b[0;34m=\u001b[0m \u001b[0mgetRandom2DPoints\u001b[0m\u001b[0;34m(\u001b[0m\u001b[0mwidth\u001b[0m\u001b[0;34m,\u001b[0m\u001b[0mheight\u001b[0m\u001b[0;34m,\u001b[0m\u001b[0;36m50\u001b[0m\u001b[0;34m)\u001b[0m\u001b[0;34m\u001b[0m\u001b[0;34m\u001b[0m\u001b[0m\n\u001b[0m\u001b[1;32m      7\u001b[0m     \u001b[0mprint\u001b[0m\u001b[0;34m(\u001b[0m\u001b[0mpts\u001b[0m\u001b[0;34m)\u001b[0m\u001b[0;34m\u001b[0m\u001b[0;34m\u001b[0m\u001b[0m\n\u001b[1;32m      8\u001b[0m     \u001b[0;31m#白紙を作る\u001b[0m\u001b[0;34m\u001b[0m\u001b[0;34m\u001b[0m\u001b[0;34m\u001b[0m\u001b[0m\n",
      "\u001b[0;32m<ipython-input-2-1f02df84d494>\u001b[0m in \u001b[0;36mgetRandom2DPoints\u001b[0;34m(width, height, n)\u001b[0m\n\u001b[1;32m      2\u001b[0m \u001b[0;31m#本番はリストで受け取るので、この関数は不要\u001b[0m\u001b[0;34m\u001b[0m\u001b[0;34m\u001b[0m\u001b[0;34m\u001b[0m\u001b[0m\n\u001b[1;32m      3\u001b[0m \u001b[0;32mdef\u001b[0m \u001b[0mgetRandom2DPoints\u001b[0m\u001b[0;34m(\u001b[0m\u001b[0mwidth\u001b[0m\u001b[0;34m,\u001b[0m \u001b[0mheight\u001b[0m\u001b[0;34m,\u001b[0m \u001b[0mn\u001b[0m\u001b[0;34m)\u001b[0m\u001b[0;34m:\u001b[0m\u001b[0;34m\u001b[0m\u001b[0;34m\u001b[0m\u001b[0m\n\u001b[0;32m----> 4\u001b[0;31m     \u001b[0;32mwith\u001b[0m \u001b[0mopen\u001b[0m\u001b[0;34m(\u001b[0m\u001b[0;34m'sample.csv'\u001b[0m\u001b[0;34m,\u001b[0m\u001b[0;34m'r'\u001b[0m\u001b[0;34m)\u001b[0m \u001b[0;32mas\u001b[0m \u001b[0mf\u001b[0m\u001b[0;34m:\u001b[0m\u001b[0;34m\u001b[0m\u001b[0;34m\u001b[0m\u001b[0m\n\u001b[0m\u001b[1;32m      5\u001b[0m         \u001b[0mreader\u001b[0m \u001b[0;34m=\u001b[0m \u001b[0mcsv\u001b[0m\u001b[0;34m.\u001b[0m\u001b[0mreader\u001b[0m\u001b[0;34m(\u001b[0m\u001b[0mf\u001b[0m\u001b[0;34m)\u001b[0m\u001b[0;34m\u001b[0m\u001b[0;34m\u001b[0m\u001b[0m\n\u001b[1;32m      6\u001b[0m         \u001b[0mpts\u001b[0m \u001b[0;34m=\u001b[0m \u001b[0mnp\u001b[0m\u001b[0;34m.\u001b[0m\u001b[0mzeros\u001b[0m\u001b[0;34m(\u001b[0m\u001b[0;34m(\u001b[0m\u001b[0;36m50\u001b[0m\u001b[0;34m,\u001b[0m\u001b[0;36m3\u001b[0m\u001b[0;34m)\u001b[0m\u001b[0;34m)\u001b[0m\u001b[0;34m\u001b[0m\u001b[0;34m\u001b[0m\u001b[0m\n",
      "\u001b[0;31mFileNotFoundError\u001b[0m: [Errno 2] No such file or directory: 'sample.csv'"
     ]
    }
   ],
   "source": [
    "if __name__ == '__main__':\n",
    "    main()"
   ]
  },
  {
   "cell_type": "code",
   "execution_count": null,
   "metadata": {},
   "outputs": [],
   "source": []
  }
 ],
 "metadata": {
  "kernelspec": {
   "display_name": "Python 3",
   "language": "python",
   "name": "python3"
  },
  "language_info": {
   "codemirror_mode": {
    "name": "ipython",
    "version": 3
   },
   "file_extension": ".py",
   "mimetype": "text/x-python",
   "name": "python",
   "nbconvert_exporter": "python",
   "pygments_lexer": "ipython3",
   "version": "3.8.2"
  }
 },
 "nbformat": 4,
 "nbformat_minor": 4
}
