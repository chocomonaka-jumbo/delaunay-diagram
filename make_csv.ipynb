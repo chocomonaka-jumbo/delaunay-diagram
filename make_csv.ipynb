{
 "cells": [
  {
   "cell_type": "code",
   "execution_count": 5,
   "metadata": {},
   "outputs": [],
   "source": [
    "import numpy as np\n",
    "import csv"
   ]
  },
  {
   "cell_type": "code",
   "execution_count": 2,
   "metadata": {},
   "outputs": [],
   "source": [
    "width = 320\n",
    "height = 240\n",
    "n = 50\n",
    "x = np.random.randint(0,width,n)\n",
    "y = np.random.randint(0,height,n)\n",
    "temp = np.random.randint(-10,45,n)"
   ]
  },
  {
   "cell_type": "code",
   "execution_count": 20,
   "metadata": {},
   "outputs": [],
   "source": [
    "header = ['x', 'y','temp']\n",
    "\n",
    "lst = np.zeros((50,3))\n",
    "\n",
    "for i in range(0,50):\n",
    "    lst[i][0]=x[i]\n",
    "    lst[i][1]=y[i]\n",
    "    lst[i][2]=temp[i]\n",
    "    \n",
    "body = lst\n",
    "\n",
    "with open('sample.csv', 'w') as f:\n",
    " \n",
    "    writer = csv.writer(f)\n",
    "    writer.writerow(header)\n",
    "    writer.writerows(body)\n",
    "f.close()"
   ]
  },
  {
   "cell_type": "code",
   "execution_count": null,
   "metadata": {},
   "outputs": [],
   "source": []
  }
 ],
 "metadata": {
  "kernelspec": {
   "display_name": "Python 3",
   "language": "python",
   "name": "python3"
  },
  "language_info": {
   "codemirror_mode": {
    "name": "ipython",
    "version": 3
   },
   "file_extension": ".py",
   "mimetype": "text/x-python",
   "name": "python",
   "nbconvert_exporter": "python",
   "pygments_lexer": "ipython3",
   "version": "3.7.6"
  }
 },
 "nbformat": 4,
 "nbformat_minor": 4
}
