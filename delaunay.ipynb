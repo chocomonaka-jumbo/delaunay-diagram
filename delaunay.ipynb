{
 "cells": [
  {
   "cell_type": "code",
   "execution_count": 2,
   "metadata": {},
   "outputs": [],
   "source": [
    "import cv2\n",
    "import numpy as np\n",
    "import math\n",
    "import colorsys"
   ]
  },
  {
   "cell_type": "code",
   "execution_count": 23,
   "metadata": {},
   "outputs": [],
   "source": [
    "#ランダムで座標と値を発生\n",
    "#本番はリストで受け取るので、この関数は不要\n",
    "def getRandom2DPoints(width, height, n):\n",
    "    np.random.seed(202001)\n",
    "    margin = 10\n",
    "    entry_pts = np.random.randint(margin, max(height, width), (n*2, 2)) \n",
    "    #第一引数に最小値、第二引数に最大値、第三引数が返り値の配列の形状(100*2(=n*2かけ2)行列)\n",
    "    \n",
    "    pts = []\n",
    "    for i, ep in enumerate(entry_pts):\n",
    "        #x座標が範囲外でないか：今はseedを大きく設定しているから大丈夫...\n",
    "        if ep[0] < margin or (width-margin) < ep[0]:\n",
    "            #ループの先頭に戻ってやり直す\n",
    "            continue \n",
    "            \n",
    "        #y座標が範囲外でないか\n",
    "        if ep[1] < margin or (height-margin) < ep[1]:\n",
    "            continue\n",
    "\n",
    "        # サークル色をHSVで計算\n",
    "        # 白っぽいを避けるためHSVで計算\n",
    "        h = i * math.pi * 2.0 / n\n",
    "        rgb = colorsys.hsv_to_rgb(h, 1.0, 1.0)\n",
    "        #値aを0-100の間にする\n",
    "        a = int(rgb[0] * 100)\n",
    "        pts.append([ep[0],ep[1],a])\n",
    "    return    pts"
   ]
  },
  {
   "cell_type": "code",
   "execution_count": 13,
   "metadata": {},
   "outputs": [
    {
     "name": "stdout",
     "output_type": "stream",
     "text": [
      "(20, 2)\n",
      "[[38, 36, 46], [19, 30, 100], [21, 32, 0], [36, 36, 0], [29, 26, 100], [36, 23, 99], [21, 35, 77], [13, 20, 0], [21, 23, 100], [29, 40, 8], [16, 21, 100]]\n",
      "11\n"
     ]
    }
   ],
   "source": [
    "#testcase  seedが20だったら、座標がn*2個できない\n",
    "#20の値を持った座標を生成\n",
    "pts = getRandom2DPoints(50, 50, 10)\n",
    "print(pts)\n",
    "print(len(pts))"
   ]
  },
  {
   "cell_type": "code",
   "execution_count": 19,
   "metadata": {},
   "outputs": [],
   "source": [
    "#受け取った3値から平均を求める。平均値を参照して色分けする。\n",
    "def get_color(a1,a2,a3):\n",
    "    #平均値を求める\n",
    "    ave = (a1+a2+a3)/3\n",
    "    \n",
    "    #値のとりうる範囲を10分割して、白~黒に色分け\n",
    "    min = 0\n",
    "    max = 100\n",
    "    std = (max-min)/10\n",
    "    \n",
    "    r=0\n",
    "    g=0\n",
    "    b=0\n",
    "    if(ave<std): #黒\n",
    "        r=g=b=0\n",
    "    elif (ave<std*2): \n",
    "        r=g=b=25\n",
    "    elif (ave<std*3): \n",
    "        r=g=b=50\n",
    "    elif (ave<std*4): \n",
    "        r=g=b=75\n",
    "    elif (ave<std*5): \n",
    "        r=g=b=100\n",
    "    elif (ave<std*6): \n",
    "        r=g=b=125\n",
    "    elif (ave<std*7): \n",
    "        r=g=b=150\n",
    "    elif (ave<std*8): \n",
    "        r=g=b=175\n",
    "    elif (ave<std*9): \n",
    "        r=g=b=200\n",
    "    else: #白\n",
    "        r=g=b=225\n",
    "        \n",
    "    return(r,g,b)"
   ]
  },
  {
   "cell_type": "code",
   "execution_count": 20,
   "metadata": {},
   "outputs": [],
   "source": [
    "def DelaunayDiagram(imgd, subdiv, array):\n",
    "    height, width = imgd.shape[:2]\n",
    "\n",
    "    # ドロネーの三角形\n",
    "    triangles = subdiv.getTriangleList()\n",
    "    pols = triangles.reshape(-1, 3, 2)\n",
    "    inner_pts = np.empty((0, 3, 2))\n",
    "    \n",
    "    for pa in pols:\n",
    "        # フレーム外の点は除外\n",
    "        cnt = 0\n",
    "        for p in pa:\n",
    "            if p[0] < 0 or width <= p[0] :\n",
    "                break\n",
    "            if p[1] < 0 or height <= p[1] :\n",
    "                break\n",
    "            cnt += 1\n",
    "        # フレーム内の点は有効\n",
    "        if cnt == 3:\n",
    "            inner_pts = np.append(inner_pts, [pa], axis=0)\n",
    "    \n",
    "    #rgb値を格納する配列を作成\n",
    "    color_list = np.zeros((len(inner_pts),3))\n",
    "    \n",
    "    #3値を渡して色を設定\n",
    "    for i in range(len(inner_pts)):\n",
    "        color_list[i]=get_color(array[(int)(inner_pts[i][0][0])][(int)(inner_pts[i][0][1])],array[(int)(inner_pts[i][1][0])][(int)(inner_pts[i][1][1])],array[(int)(inner_pts[i][2][0])][(int)(inner_pts[i][2][1])])\n",
    "    \n",
    "    #図形の描画\n",
    "    for i in range(len(inner_pts)):\n",
    "        #三角形の描画\n",
    "        cv2.fillPoly(imgd, [inner_pts[i].astype(int)], color_list[i], 1)\n",
    "        #三角形の辺の描画\n",
    "        cv2.line(imgd,(inner_pts[i][0][0].astype(int),inner_pts[i][0][1].astype(int)),(inner_pts[i][1][0].astype(int),inner_pts[i][1][1].astype(int)),(0,0,0))\n",
    "        cv2.line(imgd,(inner_pts[i][1][0].astype(int),inner_pts[i][1][1].astype(int)),(inner_pts[i][2][0].astype(int),inner_pts[i][2][1].astype(int)),(0,0,0))\n",
    "        cv2.line(imgd,(inner_pts[i][2][0].astype(int),inner_pts[i][2][1].astype(int)),(inner_pts[i][0][0].astype(int),inner_pts[i][0][1].astype(int)),(0,0,0))"
   ]
  },
  {
   "cell_type": "code",
   "execution_count": 26,
   "metadata": {},
   "outputs": [],
   "source": [
    "def main():\n",
    "    height = 240\n",
    "    width = 320\n",
    "    \n",
    "    #点を第３引数*2個生成\n",
    "    pts = getRandom2DPoints(width,height,50)\n",
    "    \n",
    "    #白紙を作る 第一引数：生成したい配列の形状shape　第二引数：任意の埋める値　第三引数：データの型\n",
    "    img = np.full((height, width, 3), 255, np.uint8)\n",
    "    \n",
    "    rect = (0, 0, width, height)\n",
    "    # OpenCVのSubdiv2Dクラスを使用\n",
    "    # 引数：矩形領域を示すタプル(左上のx座標, 左上のy座標, 右下のx座標, 右下のy座標)\n",
    "    subdiv = cv2.Subdiv2D(rect)\n",
    "\n",
    "    #(x1,y1,a1)の時、array[x1][y1]=a1とする\n",
    "    array = np.zeros((width,height))\n",
    "    \n",
    "    for p in pts:\n",
    "        # 対象の点の座標を追加 p[0]:x座標 p[1]:y座標\n",
    "        subdiv.insert((int(p[0]), int(p[1])))\n",
    "        array[p[0]][p[1]] = p[2]\n",
    "        \n",
    "    DelaunayDiagram(img, subdiv, array)\n",
    "\n",
    "    for p in pts:\n",
    "        color = p[2]\n",
    "        cv2.circle(img, (p[0],p[1]), 4, color, thickness=-1, lineType=cv2.LINE_AA)\n",
    "   \n",
    "    cv2.imwrite('test2.png', img)"
   ]
  },
  {
   "cell_type": "code",
   "execution_count": 27,
   "metadata": {},
   "outputs": [
    {
     "name": "stdout",
     "output_type": "stream",
     "text": [
      "<Subdiv2D 0x7ffa4bd7d630>\n"
     ]
    }
   ],
   "source": [
    "if __name__ == '__main__':\n",
    "    main()"
   ]
  },
  {
   "cell_type": "code",
   "execution_count": null,
   "metadata": {},
   "outputs": [],
   "source": []
  },
  {
   "cell_type": "markdown",
   "metadata": {},
   "source": [
    "https://docs.opencv.org/4.x/dc/d0d/tutorial_py_features_harris.html\n",
    "\n",
    "特徴量抽出"
   ]
  },
  {
   "cell_type": "code",
   "execution_count": 10,
   "metadata": {},
   "outputs": [],
   "source": [
    "filename = 'data/naubert.jpg'\n",
    "img = cv2.imread(filename)\n",
    "\n",
    "#gray画像にconvert\n",
    "gray = cv2.cvtColor(img,cv2.COLOR_BGR2GRAY)\n",
    "gray = np.float32(gray)\n",
    "\n",
    "# Harisのtheory\n",
    "dst = cv2.cornerHarris(gray,2,3,0.04)\n",
    "\n",
    "#result is dilated for marking the corners, not important\n",
    "dst = cv2.dilate(dst,None)\n",
    "\n",
    "# Threshold for an optimal value, it may vary depending on the image.\n",
    "img[dst>0.01*dst.max()]=[0,0,255]\n",
    "\n",
    "cv2.imshow('dst',img)\n",
    "cv2.waitKey(0) #何かのキーが押されるまで表示\n",
    "cv2.destroyAllWindows()"
   ]
  },
  {
   "cell_type": "code",
   "execution_count": null,
   "metadata": {},
   "outputs": [],
   "source": []
  }
 ],
 "metadata": {
  "kernelspec": {
   "display_name": "Python 3",
   "language": "python",
   "name": "python3"
  },
  "language_info": {
   "codemirror_mode": {
    "name": "ipython",
    "version": 3
   },
   "file_extension": ".py",
   "mimetype": "text/x-python",
   "name": "python",
   "nbconvert_exporter": "python",
   "pygments_lexer": "ipython3",
   "version": "3.7.7"
  }
 },
 "nbformat": 4,
 "nbformat_minor": 4
}
